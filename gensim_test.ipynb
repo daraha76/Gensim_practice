{
  "nbformat": 4,
  "nbformat_minor": 0,
  "metadata": {
    "colab": {
      "name": "gensim_test.ipynb",
      "provenance": [],
      "collapsed_sections": [],
      "authorship_tag": "ABX9TyOvODjqqPbbCY3/niFiuSCq",
      "include_colab_link": true
    },
    "kernelspec": {
      "name": "python3",
      "display_name": "Python 3"
    },
    "language_info": {
      "name": "python"
    },
    "accelerator": "GPU"
  },
  "cells": [
    {
      "cell_type": "markdown",
      "metadata": {
        "id": "view-in-github",
        "colab_type": "text"
      },
      "source": [
        "<a href=\"https://colab.research.google.com/github/daraha76/Gensim_practice/blob/main/gensim_test.ipynb\" target=\"_parent\"><img src=\"https://colab.research.google.com/assets/colab-badge.svg\" alt=\"Open In Colab\"/></a>"
      ]
    },
    {
      "cell_type": "code",
      "metadata": {
        "id": "e1hIIx45DwtC"
      },
      "source": [
        "import gensim.models\n",
        "from gensim.models import FastText\n",
        "from gensim.models import KeyedVectors"
      ],
      "execution_count": null,
      "outputs": []
    },
    {
      "cell_type": "markdown",
      "metadata": {
        "id": "ZIQXZGrFthft"
      },
      "source": [
        "# FastText 학습하기"
      ]
    },
    {
      "cell_type": "code",
      "metadata": {
        "colab": {
          "base_uri": "https://localhost:8080/"
        },
        "id": "tn92avokEAFG",
        "outputId": "878525b5-a41b-482b-fddb-09dbd25f9fc3"
      },
      "source": [
        "# 예제 sentences 불러오기\n",
        "# ㄴsentences: a list of lists of strings\n",
        "\n",
        "from gensim.test.utils import common_texts\n",
        "for text in common_texts:\n",
        "  print(text)"
      ],
      "execution_count": null,
      "outputs": [
        {
          "output_type": "stream",
          "text": [
            "['human', 'interface', 'computer']\n",
            "['survey', 'user', 'computer', 'system', 'response', 'time']\n",
            "['eps', 'user', 'interface', 'system']\n",
            "['system', 'human', 'system', 'eps']\n",
            "['user', 'response', 'time']\n",
            "['trees']\n",
            "['graph', 'trees']\n",
            "['graph', 'minors', 'trees']\n",
            "['graph', 'minors', 'survey']\n"
          ],
          "name": "stdout"
        }
      ]
    },
    {
      "cell_type": "code",
      "metadata": {
        "id": "Sid11r9NTi4R"
      },
      "source": [
        "# defnie a new model\n",
        "\n",
        "model = FastText(min_count=1, size=10)\n",
        "\n",
        "# ㄴmin_count: min_count 보다 적게 나온 단어 무시\n",
        "# ㄴsize: embedded vector의 size\n"
      ],
      "execution_count": null,
      "outputs": []
    },
    {
      "cell_type": "code",
      "metadata": {
        "id": "VbHGRycQVaY-"
      },
      "source": [
        "# build a vocabulary from corpus\n",
        "\n",
        "model.build_vocab(common_texts)"
      ],
      "execution_count": null,
      "outputs": []
    },
    {
      "cell_type": "code",
      "metadata": {
        "colab": {
          "base_uri": "https://localhost:8080/"
        },
        "id": "xwv73f6Ekk4l",
        "outputId": "c01c4ca0-35bc-459e-9a97-d63a978f0599"
      },
      "source": [
        "print(model.corpus_count)  # 문장 개수\n",
        "print(model.corpus_total_words)  # 전체 단어 개수"
      ],
      "execution_count": null,
      "outputs": [
        {
          "output_type": "stream",
          "text": [
            "9\n",
            "29\n"
          ],
          "name": "stdout"
        }
      ]
    },
    {
      "cell_type": "code",
      "metadata": {
        "id": "C9hNJEQnVfvc"
      },
      "source": [
        "# train the model\n",
        "\n",
        "model.train(sentences=common_texts, epochs=20, total_examples=len(common_texts))\n",
        "\n",
        "# ㄴsentences: list of documents\n",
        "# ㄴtotal_examples: length of 'sentences' list\n",
        "\n",
        "   "
      ],
      "execution_count": null,
      "outputs": []
    },
    {
      "cell_type": "markdown",
      "metadata": {
        "id": "7CoiZLubtl2X"
      },
      "source": [
        "# 학습된 word vector 를 사용하여 계산하기"
      ]
    },
    {
      "cell_type": "code",
      "metadata": {
        "colab": {
          "base_uri": "https://localhost:8080/"
        },
        "id": "W8WtjT4jV6YO",
        "outputId": "810c30dc-75dc-4458-e0b3-6025c5de82ed"
      },
      "source": [
        "# KeyedVector\n",
        "# model.wv: train이 완료된 KeyedVector, [number of words]x[size of each vector]\n",
        "\n",
        "# KeyedVector의 크기\n",
        "wv_len = len(model.wv.index2word)\n",
        "print(\"size of vocabulary:\\t%i\" %(wv_len))\n",
        "\n",
        "# KeyedVector에 저장된 단어\n",
        "for index, word in enumerate(model.wv.index2word):\n",
        "  print(\"%ith word of %i is\\t%s\" %(index, wv_len, word))"
      ],
      "execution_count": null,
      "outputs": [
        {
          "output_type": "stream",
          "text": [
            "size of vocabulary:\t12\n",
            "0th word of 12 is\tsystem\n",
            "1th word of 12 is\tuser\n",
            "2th word of 12 is\ttrees\n",
            "3th word of 12 is\tgraph\n",
            "4th word of 12 is\thuman\n",
            "5th word of 12 is\tinterface\n",
            "6th word of 12 is\tcomputer\n",
            "7th word of 12 is\tsurvey\n",
            "8th word of 12 is\tresponse\n",
            "9th word of 12 is\ttime\n",
            "10th word of 12 is\teps\n",
            "11th word of 12 is\tminors\n"
          ],
          "name": "stdout"
        }
      ]
    },
    {
      "cell_type": "code",
      "metadata": {
        "colab": {
          "base_uri": "https://localhost:8080/"
        },
        "id": "B0-xTTUki56T",
        "outputId": "a4359d2e-2f65-484d-b287-f7a30fcbcab2"
      },
      "source": [
        "# wv에서 단어 검색\n",
        "print('system' in model.wv.index2word)\n",
        "print('systems' in model.wv.index2word)\n",
        "\n",
        "# KeyedVector 값\n",
        "print(model.wv['system'])\n",
        "print(model.wv['systems'])\n"
      ],
      "execution_count": null,
      "outputs": [
        {
          "output_type": "stream",
          "text": [
            "True\n",
            "False\n",
            "[-0.01673033 -0.00173604 -0.01406091 -0.00444463 -0.0120219   0.00897863\n",
            " -0.0078133   0.02575558  0.01035542  0.00251172]\n",
            "[-0.01627489 -0.01034656 -0.00327163 -0.00874158 -0.01601067  0.02255329\n",
            " -0.01308308  0.02472889  0.01730176 -0.00352729]\n"
          ],
          "name": "stdout"
        }
      ]
    },
    {
      "cell_type": "code",
      "metadata": {
        "colab": {
          "base_uri": "https://localhost:8080/"
        },
        "id": "WiP14QGolitM",
        "outputId": "ee839fe5-aa6a-43e0-b3b8-4a3511bb3eb6"
      },
      "source": [
        "# 'human'과 유사한 단어 검색\n",
        "similarity = model.wv.most_similar(positive=['human'], topn=wv_len)   # 최대 topn개의 유사 단어들을 찾음(default=10) \n",
        "print(\"most similar word is [%s]\\n\" %(similarity[0][0]))\n",
        "\n",
        "print(\"similar words in descneding order of similarity\")\n",
        "for word_score in similarity: \n",
        "  print(\"%s: %.8f\" %(word_score[0], word_score[1]))\n",
        "print('\\n')\n",
        "\n",
        "\n",
        "# vector 연산을 이용한 검색\n",
        "# 'human' + computer' - 'user' = ?\n",
        "similarity = model.wv.most_similar(positive=['human', 'computer'], negative=['user'], topn=wv_len)\n",
        "print(\"most similar word is [%s]\\n\" %(similarity[0][0]))\n",
        "\n",
        "print(\"similar words in descneding order of similarity\")\n",
        "for word_score in similarity: \n",
        "  print(\"%s: %.8f\" %(word_score[0], word_score[1]))\n",
        "print('\\n')\n",
        "\n",
        "\n",
        "# 두 단어의 유사도 \n",
        "print(model.wv.similarity(\"human\", \"humans\"))\n",
        "print(model.wv.similarity(\"human\", \"system\"))\n",
        "print(model.wv.similarity(\"human\", \"interface\"))"
      ],
      "execution_count": null,
      "outputs": [
        {
          "output_type": "stream",
          "text": [
            "most similar word is [system]\n",
            "\n",
            "similar words in descneding order of similarity\n",
            "system: 0.68845606\n",
            "eps: 0.39895320\n",
            "user: 0.19184408\n",
            "response: 0.17416205\n",
            "computer: -0.01064765\n",
            "graph: -0.03586841\n",
            "trees: -0.07688204\n",
            "time: -0.11120591\n",
            "survey: -0.16889901\n",
            "interface: -0.29637104\n",
            "minors: -0.45915908\n",
            "\n",
            "\n",
            "most similar word is [response]\n",
            "\n",
            "similar words in descneding order of similarity\n",
            "response: 0.49505752\n",
            "interface: 0.22022764\n",
            "system: 0.19848153\n",
            "minors: -0.05950591\n",
            "graph: -0.22420032\n",
            "trees: -0.23892218\n",
            "time: -0.28261757\n",
            "eps: -0.32439154\n",
            "survey: -0.34125909\n",
            "\n",
            "\n",
            "0.9048916\n",
            "0.68845606\n",
            "-0.296371\n"
          ],
          "name": "stdout"
        }
      ]
    },
    {
      "cell_type": "markdown",
      "metadata": {
        "id": "dpLDfs2It_bk"
      },
      "source": [
        "# model, wv 저장 불러오기"
      ]
    },
    {
      "cell_type": "code",
      "metadata": {
        "colab": {
          "base_uri": "https://localhost:8080/"
        },
        "id": "6cyfIQ-sfhhm",
        "outputId": "c195aa16-e281-47e6-e319-d1353fd06164"
      },
      "source": [
        "# model 저장: model.save(filepath)\n",
        "# wv만 저장: model.wv.save(filepath)\n",
        "\n",
        "import tempfile\n",
        "with tempfile.NamedTemporaryFile(prefix=\"gensim_fasttext_model-\", delete=False) as tmpf:\n",
        "  temporary_filepath = tmpf.name\n",
        "  model.save(temporary_filepath)\n",
        "\n",
        "print(\"saved at %s\"%(temporary_filepath))\n",
        "\n",
        "# model 불러오기: FastText.load(filepath)\n",
        "\n",
        "new_model = FastText.load(temporary_filepath)"
      ],
      "execution_count": null,
      "outputs": [
        {
          "output_type": "stream",
          "text": [
            "saved at /tmp/gensim_fasttext_model-h2qa2pu0\n"
          ],
          "name": "stdout"
        }
      ]
    },
    {
      "cell_type": "code",
      "metadata": {
        "colab": {
          "base_uri": "https://localhost:8080/"
        },
        "id": "BWu3k_y1jWdn",
        "outputId": "022ad03d-85bd-4623-befb-6a2e5bc83f2a"
      },
      "source": [
        "!ls /tmp\n",
        "print('\\n')\n",
        "!rm /tmp/gensim_fasttext_model-*\n",
        "print('\\n')\n",
        "!ls /tmp"
      ],
      "execution_count": null,
      "outputs": [
        {
          "output_type": "stream",
          "text": [
            "dap_multiplexer.b6554d95a371.root.log.INFO.20210411-153444.53\n",
            "dap_multiplexer.INFO\n",
            "debugger_21egpoqpsl\n",
            "gensim_fasttext_model-h2qa2pu0\n",
            "initgoogle_syslog_dir.0\n",
            "\n",
            "\n",
            "\n",
            "\n",
            "dap_multiplexer.b6554d95a371.root.log.INFO.20210411-153444.53\n",
            "dap_multiplexer.INFO\n",
            "debugger_21egpoqpsl\n",
            "initgoogle_syslog_dir.0\n"
          ],
          "name": "stdout"
        }
      ]
    },
    {
      "cell_type": "code",
      "metadata": {
        "colab": {
          "base_uri": "https://localhost:8080/"
        },
        "id": "w-_pkd4qkOKX",
        "outputId": "2db7564f-e2ac-4dbe-b3b9-645af3da8288"
      },
      "source": [
        "# 이미 학습된 model(new_model)에 계속 학습\n",
        "\n",
        "# new_model에 새로 추가할 documents\n",
        "more_texts = [\n",
        "    ['computer', 'aided', 'design'],\n",
        "    ['computer', 'science'],\n",
        "    ['computational', 'complexity'],\n",
        "    ['military', 'supercomputer'],\n",
        "    ['central', 'processing', 'unit'],\n",
        "    ['onboard', 'car', 'computer'],\n",
        "]\n",
        "\n",
        "# new_model에 새로운 단어 추가\n",
        "new_model.build_vocab(sentences=more_texts, update=True)  # 이미 학습된 모델에 단어를 추가할 경우, update=True\n",
        "\n",
        "wv_len = len(new_model.wv.index2word)\n",
        "print(\"size of updated vocabulary: %i\" %(wv_len))\n",
        "for index, word in enumerate(new_model.wv.index2word):\n",
        "  print(\"%ith word of i% is %s\" %(index, wv_len, word))\n",
        "print('\\n')\n",
        "\n",
        "\n",
        "# 새로운 sentences에 대해 training\n",
        "new_model.train(sentences=more_texts, total_examples=len(more_texts), epochs=10)\n",
        "\n",
        "print(model.wv['system'] == new_model.wv['system'])\n",
        "print('car' in model.wv.index2word)\n",
        "print('car' in new_model.wv.index2word)   # 'car'단어가 추가로 학습됨"
      ],
      "execution_count": null,
      "outputs": [
        {
          "output_type": "stream",
          "text": [
            "size of updated vocabulary: 24\n",
            "0th word of i 24s system\n",
            "1th word of i 24s user\n",
            "2th word of i 24s trees\n",
            "3th word of i 24s graph\n",
            "4th word of i 24s human\n",
            "5th word of i 24s interface\n",
            "6th word of i 24s computer\n",
            "7th word of i 24s survey\n",
            "8th word of i 24s response\n",
            "9th word of i 24s time\n",
            "10th word of i 24s eps\n",
            "11th word of i 24s minors\n",
            "12th word of i 24s aided\n",
            "13th word of i 24s design\n",
            "14th word of i 24s science\n",
            "15th word of i 24s computational\n",
            "16th word of i 24s complexity\n",
            "17th word of i 24s military\n",
            "18th word of i 24s supercomputer\n",
            "19th word of i 24s central\n",
            "20th word of i 24s processing\n",
            "21th word of i 24s unit\n",
            "22th word of i 24s onboard\n",
            "23th word of i 24s car\n",
            "\n",
            "\n",
            "[ True  True  True  True  True  True  True  True  True  True]\n",
            "False\n",
            "True\n"
          ],
          "name": "stdout"
        }
      ]
    },
    {
      "cell_type": "markdown",
      "metadata": {
        "id": "3fPS-8f8uHhJ"
      },
      "source": [
        "# import한 corpus class를 이용하여 학습하기"
      ]
    },
    {
      "cell_type": "code",
      "metadata": {
        "colab": {
          "base_uri": "https://localhost:8080/"
        },
        "id": "5Jty4bImAsVP",
        "outputId": "08a27921-878a-4c70-af5e-ad5bf83a25a6"
      },
      "source": [
        "import gensim.downloader as api\n",
        "\n",
        "corpus_text8 = api.load('text8') # load corpus from gensim library\n",
        "\n",
        "import inspect\n",
        "print(inspect.getsource(corpus_text8.__class__)) # 'text8' corpus의 definition 출력\n",
        "\n",
        "# corpus 'text8'을 이용하여 모델 생성, training\n",
        "model_text8 = FastText(size=50, min_count=10, sg=1)\n",
        "model_text8.build_vocab(sentences=corpus_text8)\n",
        "model_text8.train(sentences=corpus_text8, epochs=2, total_examples=model_text8.corpus_count)\n",
        "\n"
      ],
      "execution_count": 22,
      "outputs": [
        {
          "output_type": "stream",
          "text": [
            "class Dataset(object):\n",
            "    def __init__(self, fn):\n",
            "        self.fn = fn\n",
            "\n",
            "    def __iter__(self):\n",
            "        corpus = Text8Corpus(self.fn)\n",
            "        for doc in corpus:\n",
            "            yield doc\n",
            "\n"
          ],
          "name": "stdout"
        }
      ]
    },
    {
      "cell_type": "markdown",
      "metadata": {
        "id": "4Ummx3ksud5g"
      },
      "source": [
        "- 학습된 모델로 유사도 계산"
      ]
    },
    {
      "cell_type": "code",
      "metadata": {
        "colab": {
          "base_uri": "https://localhost:8080/"
        },
        "id": "4oPA70yzRdq9",
        "outputId": "89d03991-5d52-4952-e6e5-57c9e8584316"
      },
      "source": [
        "similarity_0 = model_text8.wv.most_similar(positive=['theater'])\n",
        "for word_score in similarity_0:\n",
        "  print(word_score)\n",
        "print('\\n')\n",
        "\n",
        "similarity_1 = model_text8.wv.most_similar(positive=['theater'], negative=['actor'])\n",
        "for word_score in similarity_1:\n",
        "  print(word_score)\n",
        "print('\\n')\n",
        "\n",
        "similarity_2 = model_text8.wv.most_similar(positive=['actor', 'female'], negative=['male'])\n",
        "for word_score in similarity_2:\n",
        "  print(word_score)\n",
        "print('\\n')\n",
        "\n",
        "similarity_3 = model_text8.wv.most_similar(positive=['actor', 'anarchism'], negative=['theater'])\n",
        "for word_score in similarity_3:\n",
        "  print(word_score)\n",
        "print('\\n')\n"
      ],
      "execution_count": 23,
      "outputs": [
        {
          "output_type": "stream",
          "text": [
            "('theatre', 0.9180369973182678)\n",
            "('theaters', 0.9069351553916931)\n",
            "('theatres', 0.884614884853363)\n",
            "('studios', 0.8614082932472229)\n",
            "('broadway', 0.8420791029930115)\n",
            "('workshop', 0.8325414061546326)\n",
            "('playhouse', 0.8283581733703613)\n",
            "('mgm', 0.8265796303749084)\n",
            "('studio', 0.8229501247406006)\n",
            "('theatrical', 0.8226135969161987)\n",
            "\n",
            "\n",
            "('buildings', 0.5281845331192017)\n",
            "('building', 0.5006628036499023)\n",
            "('centre', 0.4831107258796692)\n",
            "('venue', 0.48120182752609253)\n",
            "('warehouses', 0.47116950154304504)\n",
            "('underground', 0.4625091850757599)\n",
            "('rebuilding', 0.4542270600795746)\n",
            "('museums', 0.45308324694633484)\n",
            "('centres', 0.45024803280830383)\n",
            "('metro', 0.44875943660736084)\n",
            "\n",
            "\n",
            "('actress', 0.9303640723228455)\n",
            "('screenwriter', 0.8925321698188782)\n",
            "('comedian', 0.8906964659690857)\n",
            "('actresses', 0.8826038241386414)\n",
            "('singer', 0.8786863088607788)\n",
            "('songwriter', 0.875999391078949)\n",
            "('musician', 0.8755835294723511)\n",
            "('comedienne', 0.8512209057807922)\n",
            "('razzie', 0.8500969409942627)\n",
            "('choreographer', 0.849559485912323)\n",
            "\n",
            "\n",
            "('anarcho', 0.775707483291626)\n",
            "('dualist', 0.7508590817451477)\n",
            "('heist', 0.7485960125923157)\n",
            "('binitarianism', 0.7477237582206726)\n",
            "('fatalism', 0.744777500629425)\n",
            "('pluralism', 0.7430456280708313)\n",
            "('anarchist', 0.7422791719436646)\n",
            "('mnism', 0.7416720986366272)\n",
            "('arianism', 0.7398836612701416)\n",
            "('hedonist', 0.73554527759552)\n",
            "\n",
            "\n"
          ],
          "name": "stdout"
        }
      ]
    },
    {
      "cell_type": "markdown",
      "metadata": {
        "id": "VMyMDmGkuR0K"
      },
      "source": [
        "- Gdrive에 모델, wv 저장 불러오기"
      ]
    },
    {
      "cell_type": "code",
      "metadata": {
        "colab": {
          "base_uri": "https://localhost:8080/"
        },
        "id": "THaD715dTxeg",
        "outputId": "fcb0579c-716a-493e-ae92-4eb1962c226d"
      },
      "source": [
        "# mount gdrive\n",
        "from google.colab import drive\n",
        "drive.mount('/content/gdrive')\n",
        "\n",
        "\n",
        "save_path_dir = 'gdrive/MyDrive/Colab Notebooks/Gensim_practice/'\n",
        "save_path_model = save_path_dir + 'model_text8_save'\n",
        "save_path_wv = save_path_dir + 'wv_text8_save'\n",
        "model_text8.save(save_path_model) # gdrive에 모델 저장\n",
        "model_text8.wv.save(save_path_wv) # gdrive에 wv 저장"
      ],
      "execution_count": 24,
      "outputs": [
        {
          "output_type": "stream",
          "text": [
            "Drive already mounted at /content/gdrive; to attempt to forcibly remount, call drive.mount(\"/content/gdrive\", force_remount=True).\n"
          ],
          "name": "stdout"
        }
      ]
    },
    {
      "cell_type": "code",
      "metadata": {
        "colab": {
          "base_uri": "https://localhost:8080/"
        },
        "id": "kIJXH8ffVZIB",
        "outputId": "7b828741-b4c1-4c04-e7d7-65830d42a9c8"
      },
      "source": [
        "# gdrive에서 저장된 model 불러오기\n",
        "model_text8_loaded = FastText.load(save_path_model)\n",
        "\n",
        "similarity = model_text8_loaded.wv.most_similar(positive=['theater'])\n",
        "for word_score in similarity:\n",
        "  print(word_score)\n",
        "print('\\n')\n",
        "\n",
        "# gdrive에서 저장된 wv 불러오기\n",
        "wv_text8_loaded = KeyedVectors.load(save_path_wv)\n",
        "similarity = wv_text8_loaded.most_similar(positive=['theater'])\n",
        "for word_score in similarity:\n",
        "  print(word_score)\n",
        "print('\\n')"
      ],
      "execution_count": 25,
      "outputs": [
        {
          "output_type": "stream",
          "text": [
            "('theatre', 0.9180369973182678)\n",
            "('theaters', 0.9069351553916931)\n",
            "('theatres', 0.884614884853363)\n",
            "('studios', 0.8614082932472229)\n",
            "('broadway', 0.8420791029930115)\n",
            "('workshop', 0.8325414061546326)\n",
            "('playhouse', 0.8283581733703613)\n",
            "('mgm', 0.8265796303749084)\n",
            "('studio', 0.8229501247406006)\n",
            "('theatrical', 0.8226135969161987)\n",
            "\n",
            "\n",
            "('theatre', 0.9180369973182678)\n",
            "('theaters', 0.9069351553916931)\n",
            "('theatres', 0.884614884853363)\n",
            "('studios', 0.8614082932472229)\n",
            "('broadway', 0.8420791029930115)\n",
            "('workshop', 0.8325414061546326)\n",
            "('playhouse', 0.8283581733703613)\n",
            "('mgm', 0.8265796303749084)\n",
            "('studio', 0.8229501247406006)\n",
            "('theatrical', 0.8226135969161987)\n",
            "\n",
            "\n"
          ],
          "name": "stdout"
        }
      ]
    }
  ]
}